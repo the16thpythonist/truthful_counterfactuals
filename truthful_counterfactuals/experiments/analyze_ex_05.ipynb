{
 "cells": [
  {
   "cell_type": "code",
   "execution_count": 5,
   "metadata": {},
   "outputs": [],
   "source": [
    "import os\n",
    "import numpy as np\n",
    "import matplotlib.pyplot as plt\n",
    "from typing import List, Tuple, Dict, Any\n",
    "from rich.pretty import pprint\n",
    "\n",
    "from pycomex.functional.experiment import Experiment"
   ]
  },
  {
   "cell_type": "code",
   "execution_count": 9,
   "metadata": {},
   "outputs": [],
   "source": [
    "PATH = os.getcwd()\n",
    "RESULTS_PATH = os.path.join(PATH, 'results')\n",
    "\n",
    "# A list of identifier strings that will be matched to decide which experiments to include \n",
    "# in the evaluation. These strings can be used to differentiate between different runs of \n",
    "# an experiment.\n",
    "IDENTIFIERS: List[str] = ['ex_05_a']"
   ]
  },
  {
   "cell_type": "code",
   "execution_count": 10,
   "metadata": {},
   "outputs": [
    {
     "name": "stdout",
     "output_type": "stream",
     "text": [
      "traversing experiment namespaces...\n"
     ]
    },
    {
     "data": {
      "text/html": [
       "<pre style=\"white-space:pre;overflow-x:auto;line-height:normal;font-family:Menlo,'DejaVu Sans Mono',consolas,'Courier New',monospace\"><span style=\"font-weight: bold\">[</span>\n",
       "<span style=\"color: #7fbf7f; text-decoration-color: #7fbf7f\">│   </span><span style=\"color: #008000; text-decoration-color: #008000\">'/media/ssd/Programming/truthful_counterfactuals/truthful_counterfactuals/experiments/results/quantify_uncertainty__ens_mve__compas'</span>,\n",
       "<span style=\"color: #7fbf7f; text-decoration-color: #7fbf7f\">│   </span><span style=\"color: #008000; text-decoration-color: #008000\">'/media/ssd/Programming/truthful_counterfactuals/truthful_counterfactuals/experiments/results/quantify_uncertainty__tscore__euc'</span>,\n",
       "<span style=\"color: #7fbf7f; text-decoration-color: #7fbf7f\">│   </span><span style=\"color: #008000; text-decoration-color: #008000\">'/media/ssd/Programming/truthful_counterfactuals/truthful_counterfactuals/experiments/results/quantify_uncertainty__ens_mve__aqsoldb'</span>,\n",
       "<span style=\"color: #7fbf7f; text-decoration-color: #7fbf7f\">│   </span><span style=\"color: #008000; text-decoration-color: #008000\">'/media/ssd/Programming/truthful_counterfactuals/truthful_counterfactuals/experiments/results/quantify_uncertainty__mve'</span>,\n",
       "<span style=\"color: #7fbf7f; text-decoration-color: #7fbf7f\">│   </span><span style=\"color: #008000; text-decoration-color: #008000\">'/media/ssd/Programming/truthful_counterfactuals/truthful_counterfactuals/experiments/results/quantify_uncertainty'</span>,\n",
       "<span style=\"color: #7fbf7f; text-decoration-color: #7fbf7f\">│   </span><span style=\"color: #008000; text-decoration-color: #008000\">'/media/ssd/Programming/truthful_counterfactuals/truthful_counterfactuals/experiments/results/quantify_uncertainty__tscore__tan'</span>,\n",
       "<span style=\"color: #7fbf7f; text-decoration-color: #7fbf7f\">│   </span><span style=\"color: #008000; text-decoration-color: #008000\">'/media/ssd/Programming/truthful_counterfactuals/truthful_counterfactuals/experiments/results/generate_logp_dataset'</span>,\n",
       "<span style=\"color: #7fbf7f; text-decoration-color: #7fbf7f\">│   </span><span style=\"color: #008000; text-decoration-color: #008000\">'/media/ssd/Programming/truthful_counterfactuals/truthful_counterfactuals/experiments/results/quantify_uncertainty__ens_mve'</span>,\n",
       "<span style=\"color: #7fbf7f; text-decoration-color: #7fbf7f\">│   </span><span style=\"color: #008000; text-decoration-color: #008000\">'/media/ssd/Programming/truthful_counterfactuals/truthful_counterfactuals/experiments/results/quantify_uncertainty__ens_mve__tadf'</span>,\n",
       "<span style=\"color: #7fbf7f; text-decoration-color: #7fbf7f\">│   </span><span style=\"color: #008000; text-decoration-color: #008000\">'/media/ssd/Programming/truthful_counterfactuals/truthful_counterfactuals/experiments/results/quantify_uncertainty__swag'</span>,\n",
       "<span style=\"color: #7fbf7f; text-decoration-color: #7fbf7f\">│   </span><span style=\"color: #008000; text-decoration-color: #008000\">'/media/ssd/Programming/truthful_counterfactuals/truthful_counterfactuals/experiments/results/quantify_uncertainty__rand'</span>,\n",
       "<span style=\"color: #7fbf7f; text-decoration-color: #7fbf7f\">│   </span><span style=\"color: #008000; text-decoration-color: #008000\">'/media/ssd/Programming/truthful_counterfactuals/truthful_counterfactuals/experiments/results/counterfactual_truthfulness__ens_mve'</span>,\n",
       "<span style=\"color: #7fbf7f; text-decoration-color: #7fbf7f\">│   </span><span style=\"color: #008000; text-decoration-color: #008000\">'/media/ssd/Programming/truthful_counterfactuals/truthful_counterfactuals/experiments/results/counterfactual_truthfulness'</span>,\n",
       "<span style=\"color: #7fbf7f; text-decoration-color: #7fbf7f\">│   </span><span style=\"color: #008000; text-decoration-color: #008000\">'/media/ssd/Programming/truthful_counterfactuals/truthful_counterfactuals/experiments/results/quantify_uncertainty__ens_grad'</span>,\n",
       "<span style=\"color: #7fbf7f; text-decoration-color: #7fbf7f\">│   </span><span style=\"color: #008000; text-decoration-color: #008000\">'/media/ssd/Programming/truthful_counterfactuals/truthful_counterfactuals/experiments/results/quantify_uncertainty__ens'</span>,\n",
       "<span style=\"color: #7fbf7f; text-decoration-color: #7fbf7f\">│   </span><span style=\"color: #008000; text-decoration-color: #008000\">'/media/ssd/Programming/truthful_counterfactuals/truthful_counterfactuals/experiments/results/counterfactual_truthfulness__rand'</span>,\n",
       "<span style=\"color: #7fbf7f; text-decoration-color: #7fbf7f\">│   </span><span style=\"color: #008000; text-decoration-color: #008000\">'/media/ssd/Programming/truthful_counterfactuals/truthful_counterfactuals/experiments/results/quantify_uncertainty__ens_mve__qm9'</span>,\n",
       "<span style=\"color: #7fbf7f; text-decoration-color: #7fbf7f\">│   </span><span style=\"color: #008000; text-decoration-color: #008000\">'/media/ssd/Programming/truthful_counterfactuals/truthful_counterfactuals/experiments/results/quantify_uncertainty__ens_mve__lipop'</span>,\n",
       "<span style=\"color: #7fbf7f; text-decoration-color: #7fbf7f\">│   </span><span style=\"color: #008000; text-decoration-color: #008000\">'/media/ssd/Programming/truthful_counterfactuals/truthful_counterfactuals/experiments/results/quantify_uncertainty__tscore'</span>\n",
       "<span style=\"font-weight: bold\">]</span>\n",
       "</pre>\n"
      ],
      "text/plain": [
       "\u001b[1m[\u001b[0m\n",
       "\u001b[2;32m│   \u001b[0m\u001b[32m'/media/ssd/Programming/truthful_counterfactuals/truthful_counterfactuals/experiments/results/quantify_uncertainty__ens_mve__compas'\u001b[0m,\n",
       "\u001b[2;32m│   \u001b[0m\u001b[32m'/media/ssd/Programming/truthful_counterfactuals/truthful_counterfactuals/experiments/results/quantify_uncertainty__tscore__euc'\u001b[0m,\n",
       "\u001b[2;32m│   \u001b[0m\u001b[32m'/media/ssd/Programming/truthful_counterfactuals/truthful_counterfactuals/experiments/results/quantify_uncertainty__ens_mve__aqsoldb'\u001b[0m,\n",
       "\u001b[2;32m│   \u001b[0m\u001b[32m'/media/ssd/Programming/truthful_counterfactuals/truthful_counterfactuals/experiments/results/quantify_uncertainty__mve'\u001b[0m,\n",
       "\u001b[2;32m│   \u001b[0m\u001b[32m'/media/ssd/Programming/truthful_counterfactuals/truthful_counterfactuals/experiments/results/quantify_uncertainty'\u001b[0m,\n",
       "\u001b[2;32m│   \u001b[0m\u001b[32m'/media/ssd/Programming/truthful_counterfactuals/truthful_counterfactuals/experiments/results/quantify_uncertainty__tscore__tan'\u001b[0m,\n",
       "\u001b[2;32m│   \u001b[0m\u001b[32m'/media/ssd/Programming/truthful_counterfactuals/truthful_counterfactuals/experiments/results/generate_logp_dataset'\u001b[0m,\n",
       "\u001b[2;32m│   \u001b[0m\u001b[32m'/media/ssd/Programming/truthful_counterfactuals/truthful_counterfactuals/experiments/results/quantify_uncertainty__ens_mve'\u001b[0m,\n",
       "\u001b[2;32m│   \u001b[0m\u001b[32m'/media/ssd/Programming/truthful_counterfactuals/truthful_counterfactuals/experiments/results/quantify_uncertainty__ens_mve__tadf'\u001b[0m,\n",
       "\u001b[2;32m│   \u001b[0m\u001b[32m'/media/ssd/Programming/truthful_counterfactuals/truthful_counterfactuals/experiments/results/quantify_uncertainty__swag'\u001b[0m,\n",
       "\u001b[2;32m│   \u001b[0m\u001b[32m'/media/ssd/Programming/truthful_counterfactuals/truthful_counterfactuals/experiments/results/quantify_uncertainty__rand'\u001b[0m,\n",
       "\u001b[2;32m│   \u001b[0m\u001b[32m'/media/ssd/Programming/truthful_counterfactuals/truthful_counterfactuals/experiments/results/counterfactual_truthfulness__ens_mve'\u001b[0m,\n",
       "\u001b[2;32m│   \u001b[0m\u001b[32m'/media/ssd/Programming/truthful_counterfactuals/truthful_counterfactuals/experiments/results/counterfactual_truthfulness'\u001b[0m,\n",
       "\u001b[2;32m│   \u001b[0m\u001b[32m'/media/ssd/Programming/truthful_counterfactuals/truthful_counterfactuals/experiments/results/quantify_uncertainty__ens_grad'\u001b[0m,\n",
       "\u001b[2;32m│   \u001b[0m\u001b[32m'/media/ssd/Programming/truthful_counterfactuals/truthful_counterfactuals/experiments/results/quantify_uncertainty__ens'\u001b[0m,\n",
       "\u001b[2;32m│   \u001b[0m\u001b[32m'/media/ssd/Programming/truthful_counterfactuals/truthful_counterfactuals/experiments/results/counterfactual_truthfulness__rand'\u001b[0m,\n",
       "\u001b[2;32m│   \u001b[0m\u001b[32m'/media/ssd/Programming/truthful_counterfactuals/truthful_counterfactuals/experiments/results/quantify_uncertainty__ens_mve__qm9'\u001b[0m,\n",
       "\u001b[2;32m│   \u001b[0m\u001b[32m'/media/ssd/Programming/truthful_counterfactuals/truthful_counterfactuals/experiments/results/quantify_uncertainty__ens_mve__lipop'\u001b[0m,\n",
       "\u001b[2;32m│   \u001b[0m\u001b[32m'/media/ssd/Programming/truthful_counterfactuals/truthful_counterfactuals/experiments/results/quantify_uncertainty__tscore'\u001b[0m\n",
       "\u001b[1m]\u001b[0m\n"
      ]
     },
     "metadata": {},
     "output_type": "display_data"
    },
    {
     "name": "stdout",
     "output_type": "stream",
     "text": [
      "traversing experiment paths...\n"
     ]
    },
    {
     "data": {
      "text/html": [
       "<pre style=\"white-space:pre;overflow-x:auto;line-height:normal;font-family:Menlo,'DejaVu Sans Mono',consolas,'Courier New',monospace\"><span style=\"font-weight: bold\">[</span>\n",
       "<span style=\"color: #7fbf7f; text-decoration-color: #7fbf7f\">│   </span><span style=\"color: #008000; text-decoration-color: #008000\">'/media/ssd/Programming/truthful_counterfactuals/truthful_counterfactuals/experiments/results/quantify_uncertainty__ens_mve__compas/05'</span>,\n",
       "<span style=\"color: #7fbf7f; text-decoration-color: #7fbf7f\">│   </span><span style=\"color: #008000; text-decoration-color: #008000\">'/media/ssd/Programming/truthful_counterfactuals/truthful_counterfactuals/experiments/results/quantify_uncertainty__ens_mve__compas/04'</span>,\n",
       "<span style=\"color: #7fbf7f; text-decoration-color: #7fbf7f\">│   </span><span style=\"color: #008000; text-decoration-color: #008000\">'/media/ssd/Programming/truthful_counterfactuals/truthful_counterfactuals/experiments/results/quantify_uncertainty__ens_mve__compas/25_09_2024__12_39__Hwdx'</span>,\n",
       "<span style=\"color: #7fbf7f; text-decoration-color: #7fbf7f\">│   </span><span style=\"color: #008000; text-decoration-color: #008000\">'/media/ssd/Programming/truthful_counterfactuals/truthful_counterfactuals/experiments/results/quantify_uncertainty__ens_mve__compas/02'</span>,\n",
       "<span style=\"color: #7fbf7f; text-decoration-color: #7fbf7f\">│   </span><span style=\"color: #008000; text-decoration-color: #008000\">'/media/ssd/Programming/truthful_counterfactuals/truthful_counterfactuals/experiments/results/quantify_uncertainty__ens_mve__compas/03'</span>,\n",
       "<span style=\"color: #7fbf7f; text-decoration-color: #7fbf7f\">│   </span><span style=\"color: #008000; text-decoration-color: #008000\">'/media/ssd/Programming/truthful_counterfactuals/truthful_counterfactuals/experiments/results/quantify_uncertainty__ens_mve__compas/01'</span>,\n",
       "<span style=\"color: #7fbf7f; text-decoration-color: #7fbf7f\">│   </span><span style=\"color: #008000; text-decoration-color: #008000\">'/media/ssd/Programming/truthful_counterfactuals/truthful_counterfactuals/experiments/results/quantify_uncertainty__tscore__euc/ex_01_a__31_01_2025__07_48__brDY'</span>,\n",
       "<span style=\"color: #7fbf7f; text-decoration-color: #7fbf7f\">│   </span><span style=\"color: #008000; text-decoration-color: #008000\">'/media/ssd/Programming/truthful_counterfactuals/truthful_counterfactuals/experiments/results/quantify_uncertainty__tscore__euc/test__30_01_2025__17_55__yGhq'</span>,\n",
       "<span style=\"color: #7fbf7f; text-decoration-color: #7fbf7f\">│   </span><span style=\"color: #008000; text-decoration-color: #008000\">'/media/ssd/Programming/truthful_counterfactuals/truthful_counterfactuals/experiments/results/quantify_uncertainty__tscore__euc/ex_01_a__31_01_2025__08_40__6b0k'</span>,\n",
       "<span style=\"color: #7fbf7f; text-decoration-color: #7fbf7f\">│   </span><span style=\"color: #008000; text-decoration-color: #008000\">'/media/ssd/Programming/truthful_counterfactuals/truthful_counterfactuals/experiments/results/quantify_uncertainty__tscore__euc/ex_01_a__31_01_2025__05_13__XulQ'</span>,\n",
       "<span style=\"color: #7fbf7f; text-decoration-color: #7fbf7f\">│   </span><span style=\"color: #808000; text-decoration-color: #808000\">...</span> +<span style=\"color: #008080; text-decoration-color: #008080; font-weight: bold\">287</span>\n",
       "<span style=\"font-weight: bold\">]</span>\n",
       "</pre>\n"
      ],
      "text/plain": [
       "\u001b[1m[\u001b[0m\n",
       "\u001b[2;32m│   \u001b[0m\u001b[32m'/media/ssd/Programming/truthful_counterfactuals/truthful_counterfactuals/experiments/results/quantify_uncertainty__ens_mve__compas/05'\u001b[0m,\n",
       "\u001b[2;32m│   \u001b[0m\u001b[32m'/media/ssd/Programming/truthful_counterfactuals/truthful_counterfactuals/experiments/results/quantify_uncertainty__ens_mve__compas/04'\u001b[0m,\n",
       "\u001b[2;32m│   \u001b[0m\u001b[32m'/media/ssd/Programming/truthful_counterfactuals/truthful_counterfactuals/experiments/results/quantify_uncertainty__ens_mve__compas/25_09_2024__12_39__Hwdx'\u001b[0m,\n",
       "\u001b[2;32m│   \u001b[0m\u001b[32m'/media/ssd/Programming/truthful_counterfactuals/truthful_counterfactuals/experiments/results/quantify_uncertainty__ens_mve__compas/02'\u001b[0m,\n",
       "\u001b[2;32m│   \u001b[0m\u001b[32m'/media/ssd/Programming/truthful_counterfactuals/truthful_counterfactuals/experiments/results/quantify_uncertainty__ens_mve__compas/03'\u001b[0m,\n",
       "\u001b[2;32m│   \u001b[0m\u001b[32m'/media/ssd/Programming/truthful_counterfactuals/truthful_counterfactuals/experiments/results/quantify_uncertainty__ens_mve__compas/01'\u001b[0m,\n",
       "\u001b[2;32m│   \u001b[0m\u001b[32m'/media/ssd/Programming/truthful_counterfactuals/truthful_counterfactuals/experiments/results/quantify_uncertainty__tscore__euc/ex_01_a__31_01_2025__07_48__brDY'\u001b[0m,\n",
       "\u001b[2;32m│   \u001b[0m\u001b[32m'/media/ssd/Programming/truthful_counterfactuals/truthful_counterfactuals/experiments/results/quantify_uncertainty__tscore__euc/test__30_01_2025__17_55__yGhq'\u001b[0m,\n",
       "\u001b[2;32m│   \u001b[0m\u001b[32m'/media/ssd/Programming/truthful_counterfactuals/truthful_counterfactuals/experiments/results/quantify_uncertainty__tscore__euc/ex_01_a__31_01_2025__08_40__6b0k'\u001b[0m,\n",
       "\u001b[2;32m│   \u001b[0m\u001b[32m'/media/ssd/Programming/truthful_counterfactuals/truthful_counterfactuals/experiments/results/quantify_uncertainty__tscore__euc/ex_01_a__31_01_2025__05_13__XulQ'\u001b[0m,\n",
       "\u001b[2;32m│   \u001b[0m\u001b[33m...\u001b[0m +\u001b[1;36m287\u001b[0m\n",
       "\u001b[1m]\u001b[0m\n"
      ]
     },
     "metadata": {},
     "output_type": "display_data"
    }
   ],
   "source": [
    "# ~ finding experiments\n",
    "\n",
    "print('traversing experiment namespaces...')\n",
    "experiment_namespace_paths: List[str] = [\n",
    "    path\n",
    "    for file in os.listdir(RESULTS_PATH)\n",
    "    if os.path.isdir(path := os.path.join(RESULTS_PATH, file))\n",
    "]\n",
    "pprint(experiment_namespace_paths)\n",
    "\n",
    "print('traversing experiment paths...')\n",
    "experiment_paths: List[str] = [\n",
    "    path\n",
    "    for folder_path in experiment_namespace_paths\n",
    "    for file in os.listdir(folder_path)\n",
    "    if os.path.isdir(path := os.path.join(folder_path, file))\n",
    "]\n",
    "pprint(experiment_paths, max_length=10)"
   ]
  },
  {
   "cell_type": "code",
   "execution_count": 11,
   "metadata": {},
   "outputs": [
    {
     "name": "stdout",
     "output_type": "stream",
     "text": [
      "no experiment data found at /media/ssd/Programming/truthful_counterfactuals/truthful_counterfactuals/experiments/results/quantify_uncertainty__tscore__euc/test__30_01_2025__17_55__yGhq/experiment_data.json\n",
      "no experiment data found at /media/ssd/Programming/truthful_counterfactuals/truthful_counterfactuals/experiments/results/quantify_uncertainty__ens_mve/31_01_2025__09_48__uDBP/experiment_data.json\n",
      "no experiment data found at /media/ssd/Programming/truthful_counterfactuals/truthful_counterfactuals/experiments/results/quantify_uncertainty__ens_mve/31_01_2025__09_56__qJAY/experiment_data.json\n",
      "no experiment data found at /media/ssd/Programming/truthful_counterfactuals/truthful_counterfactuals/experiments/results/quantify_uncertainty__ens_mve/31_01_2025__09_57__IV9X/experiment_data.json\n",
      "no experiment data found at /media/ssd/Programming/truthful_counterfactuals/truthful_counterfactuals/experiments/results/quantify_uncertainty__ens_mve__tadf/26_09_2024__14_00__5Pjp/experiment_data.json\n",
      "no experiment data found at /media/ssd/Programming/truthful_counterfactuals/truthful_counterfactuals/experiments/results/quantify_uncertainty__ens_mve__tadf/26_09_2024__10_17__Zjfh/experiment_data.json\n",
      "no experiment data found at /media/ssd/Programming/truthful_counterfactuals/truthful_counterfactuals/experiments/results/quantify_uncertainty__ens_mve__tadf/26_09_2024__10_17__TZeg/experiment_data.json\n",
      "no experiment data found at /media/ssd/Programming/truthful_counterfactuals/truthful_counterfactuals/experiments/results/quantify_uncertainty__ens_mve__tadf/26_09_2024__11_05__ZTeZ/experiment_data.json\n",
      "no experiment data found at /media/ssd/Programming/truthful_counterfactuals/truthful_counterfactuals/experiments/results/quantify_uncertainty__ens_mve__tadf/26_09_2024__12_06__jRbD/experiment_data.json\n",
      "no experiment data found at /media/ssd/Programming/truthful_counterfactuals/truthful_counterfactuals/experiments/results/quantify_uncertainty__swag/03_09_2024__14_32__zmQ0/experiment_data.json\n",
      "no experiment data found at /media/ssd/Programming/truthful_counterfactuals/truthful_counterfactuals/experiments/results/quantify_uncertainty__swag/30_01_2025__18_08__9rXA/experiment_data.json\n",
      "no experiment data found at /media/ssd/Programming/truthful_counterfactuals/truthful_counterfactuals/experiments/results/counterfactual_truthfulness/debug/experiment_data.json\n",
      "loaded 15 experiments in 2.7 seconds\n"
     ]
    }
   ],
   "source": [
    "import time\n",
    "\n",
    "# ~ loading experiments\n",
    "# Now that we have the paths to all the experiment archive folders, we can now actually \n",
    "# load them back into memory\n",
    "experiments: List[Experiment] = []\n",
    "\n",
    "time_start = time.time()\n",
    "for path in experiment_paths:\n",
    "    \n",
    "    experiment_data_path = os.path.join(path, 'experiment_data.json')\n",
    "    if not os.path.exists(experiment_data_path):\n",
    "        print(f'no experiment data found at {experiment_data_path}')\n",
    "        continue\n",
    "    \n",
    "    try:\n",
    "        experiment = Experiment.load(path)\n",
    "    except:\n",
    "        continue\n",
    "    \n",
    "    # We want to match a specific identifier\n",
    "    if experiment.parameters['IDENTIFIER'] not in IDENTIFIERS:\n",
    "        continue\n",
    "    \n",
    "    experiments.append(experiment)\n",
    "    \n",
    "time_end = time.time()\n",
    "    \n",
    "print(f'loaded {len(experiments)} experiments in {time_end - time_start:.1f} seconds')"
   ]
  },
  {
   "cell_type": "code",
   "execution_count": 12,
   "metadata": {},
   "outputs": [
    {
     "data": {
      "text/html": [
       "<pre style=\"white-space:pre;overflow-x:auto;line-height:normal;font-family:Menlo,'DejaVu Sans Mono',consolas,'Courier New',monospace\"><span style=\"color: #800080; text-decoration-color: #800080; font-weight: bold\">defaultdict</span><span style=\"font-weight: bold\">(&lt;</span><span style=\"color: #ff00ff; text-decoration-color: #ff00ff; font-weight: bold\">class</span><span style=\"color: #000000; text-decoration-color: #000000\"> </span><span style=\"color: #008000; text-decoration-color: #008000\">'list'</span><span style=\"color: #000000; text-decoration-color: #000000\">&gt;, </span><span style=\"color: #000000; text-decoration-color: #000000; font-weight: bold\">{</span>\n",
       "<span style=\"color: #7fbf7f; text-decoration-color: #7fbf7f\">│   </span><span style=\"color: #008000; text-decoration-color: #008000\">'max'</span><span style=\"color: #000000; text-decoration-color: #000000\">: </span><span style=\"color: #000000; text-decoration-color: #000000; font-weight: bold\">[</span>\n",
       "<span style=\"color: #7fbf7f; text-decoration-color: #7fbf7f\">│   │   </span><span style=\"color: #000000; text-decoration-color: #000000\">&lt;pycomex.functional.experiment.Experiment object at </span><span style=\"color: #008080; text-decoration-color: #008080; font-weight: bold\">0x775d71a5add0</span><span style=\"color: #000000; text-decoration-color: #000000\">&gt;,</span>\n",
       "<span style=\"color: #7fbf7f; text-decoration-color: #7fbf7f\">│   │   </span><span style=\"color: #000000; text-decoration-color: #000000\">&lt;pycomex.functional.experiment.Experiment object at </span><span style=\"color: #008080; text-decoration-color: #008080; font-weight: bold\">0x775d7188b160</span><span style=\"color: #000000; text-decoration-color: #000000\">&gt;,</span>\n",
       "<span style=\"color: #7fbf7f; text-decoration-color: #7fbf7f\">│   │   </span><span style=\"color: #000000; text-decoration-color: #000000\">&lt;pycomex.functional.experiment.Experiment object at </span><span style=\"color: #008080; text-decoration-color: #008080; font-weight: bold\">0x775d712edd20</span><span style=\"color: #000000; text-decoration-color: #000000\">&gt;,</span>\n",
       "<span style=\"color: #7fbf7f; text-decoration-color: #7fbf7f\">│   │   </span><span style=\"color: #000000; text-decoration-color: #000000\">&lt;pycomex.functional.experiment.Experiment object at </span><span style=\"color: #008080; text-decoration-color: #008080; font-weight: bold\">0x775d7118ab90</span><span style=\"color: #000000; text-decoration-color: #000000\">&gt;,</span>\n",
       "<span style=\"color: #7fbf7f; text-decoration-color: #7fbf7f\">│   │   </span><span style=\"color: #000000; text-decoration-color: #000000\">&lt;pycomex.functional.experiment.Experiment object at </span><span style=\"color: #008080; text-decoration-color: #008080; font-weight: bold\">0x775d71009b40</span><span style=\"color: #000000; text-decoration-color: #000000\">&gt;</span>\n",
       "<span style=\"color: #7fbf7f; text-decoration-color: #7fbf7f\">│   </span><span style=\"color: #000000; text-decoration-color: #000000; font-weight: bold\">]</span><span style=\"color: #000000; text-decoration-color: #000000\">,</span>\n",
       "<span style=\"color: #7fbf7f; text-decoration-color: #7fbf7f\">│   </span><span style=\"color: #008000; text-decoration-color: #008000\">'mean'</span><span style=\"color: #000000; text-decoration-color: #000000\">: </span><span style=\"color: #000000; text-decoration-color: #000000; font-weight: bold\">[</span>\n",
       "<span style=\"color: #7fbf7f; text-decoration-color: #7fbf7f\">│   │   </span><span style=\"color: #000000; text-decoration-color: #000000\">&lt;pycomex.functional.experiment.Experiment object at </span><span style=\"color: #008080; text-decoration-color: #008080; font-weight: bold\">0x775d718dfd30</span><span style=\"color: #000000; text-decoration-color: #000000\">&gt;,</span>\n",
       "<span style=\"color: #7fbf7f; text-decoration-color: #7fbf7f\">│   │   </span><span style=\"color: #000000; text-decoration-color: #000000\">&lt;pycomex.functional.experiment.Experiment object at </span><span style=\"color: #008080; text-decoration-color: #008080; font-weight: bold\">0x775d71991ae0</span><span style=\"color: #000000; text-decoration-color: #000000\">&gt;,</span>\n",
       "<span style=\"color: #7fbf7f; text-decoration-color: #7fbf7f\">│   │   </span><span style=\"color: #000000; text-decoration-color: #000000\">&lt;pycomex.functional.experiment.Experiment object at </span><span style=\"color: #008080; text-decoration-color: #008080; font-weight: bold\">0x775d728538b0</span><span style=\"color: #000000; text-decoration-color: #000000\">&gt;,</span>\n",
       "<span style=\"color: #7fbf7f; text-decoration-color: #7fbf7f\">│   │   </span><span style=\"color: #000000; text-decoration-color: #000000\">&lt;pycomex.functional.experiment.Experiment object at </span><span style=\"color: #008080; text-decoration-color: #008080; font-weight: bold\">0x775d71433d90</span><span style=\"color: #000000; text-decoration-color: #000000\">&gt;,</span>\n",
       "<span style=\"color: #7fbf7f; text-decoration-color: #7fbf7f\">│   │   </span><span style=\"color: #000000; text-decoration-color: #000000\">&lt;pycomex.functional.experiment.Experiment object at </span><span style=\"color: #008080; text-decoration-color: #008080; font-weight: bold\">0x775d7188bbe0</span><span style=\"color: #000000; text-decoration-color: #000000\">&gt;</span>\n",
       "<span style=\"color: #7fbf7f; text-decoration-color: #7fbf7f\">│   </span><span style=\"color: #000000; text-decoration-color: #000000; font-weight: bold\">]</span><span style=\"color: #000000; text-decoration-color: #000000\">,</span>\n",
       "<span style=\"color: #7fbf7f; text-decoration-color: #7fbf7f\">│   </span><span style=\"color: #008000; text-decoration-color: #008000\">'min'</span><span style=\"color: #000000; text-decoration-color: #000000\">: </span><span style=\"color: #000000; text-decoration-color: #000000; font-weight: bold\">[</span>\n",
       "<span style=\"color: #7fbf7f; text-decoration-color: #7fbf7f\">│   │   </span><span style=\"color: #000000; text-decoration-color: #000000\">&lt;pycomex.functional.experiment.Experiment object at </span><span style=\"color: #008080; text-decoration-color: #008080; font-weight: bold\">0x775d718ded70</span><span style=\"color: #000000; text-decoration-color: #000000\">&gt;,</span>\n",
       "<span style=\"color: #7fbf7f; text-decoration-color: #7fbf7f\">│   │   </span><span style=\"color: #000000; text-decoration-color: #000000\">&lt;pycomex.functional.experiment.Experiment object at </span><span style=\"color: #008080; text-decoration-color: #008080; font-weight: bold\">0x775d71889540</span><span style=\"color: #000000; text-decoration-color: #000000\">&gt;,</span>\n",
       "<span style=\"color: #7fbf7f; text-decoration-color: #7fbf7f\">│   │   </span><span style=\"color: #000000; text-decoration-color: #000000\">&lt;pycomex.functional.experiment.Experiment object at </span><span style=\"color: #008080; text-decoration-color: #008080; font-weight: bold\">0x775d714ef5b0</span><span style=\"color: #000000; text-decoration-color: #000000\">&gt;,</span>\n",
       "<span style=\"color: #7fbf7f; text-decoration-color: #7fbf7f\">│   │   </span><span style=\"color: #000000; text-decoration-color: #000000\">&lt;pycomex.functional.experiment.Experiment object at </span><span style=\"color: #008080; text-decoration-color: #008080; font-weight: bold\">0x775d7137f4f0</span><span style=\"color: #000000; text-decoration-color: #000000\">&gt;,</span>\n",
       "<span style=\"color: #7fbf7f; text-decoration-color: #7fbf7f\">│   │   </span><span style=\"color: #000000; text-decoration-color: #000000\">&lt;pycomex.functional.experiment.Experiment object at </span><span style=\"color: #008080; text-decoration-color: #008080; font-weight: bold\">0x775d710ba740</span><span style=\"font-weight: bold\">&gt;</span>\n",
       "<span style=\"color: #7fbf7f; text-decoration-color: #7fbf7f\">│   </span><span style=\"font-weight: bold\">]</span>\n",
       "<span style=\"font-weight: bold\">})</span>\n",
       "</pre>\n"
      ],
      "text/plain": [
       "\u001b[1;35mdefaultdict\u001b[0m\u001b[1m(\u001b[0m\u001b[1m<\u001b[0m\u001b[1;95mclass\u001b[0m\u001b[39m \u001b[0m\u001b[32m'list'\u001b[0m\u001b[39m>, \u001b[0m\u001b[1;39m{\u001b[0m\n",
       "\u001b[2;32m│   \u001b[0m\u001b[32m'max'\u001b[0m\u001b[39m: \u001b[0m\u001b[1;39m[\u001b[0m\n",
       "\u001b[2;32m│   │   \u001b[0m\u001b[39m<pycomex.functional.experiment.Experiment object at \u001b[0m\u001b[1;36m0x775d71a5add0\u001b[0m\u001b[39m>,\u001b[0m\n",
       "\u001b[2;32m│   │   \u001b[0m\u001b[39m<pycomex.functional.experiment.Experiment object at \u001b[0m\u001b[1;36m0x775d7188b160\u001b[0m\u001b[39m>,\u001b[0m\n",
       "\u001b[2;32m│   │   \u001b[0m\u001b[39m<pycomex.functional.experiment.Experiment object at \u001b[0m\u001b[1;36m0x775d712edd20\u001b[0m\u001b[39m>,\u001b[0m\n",
       "\u001b[2;32m│   │   \u001b[0m\u001b[39m<pycomex.functional.experiment.Experiment object at \u001b[0m\u001b[1;36m0x775d7118ab90\u001b[0m\u001b[39m>,\u001b[0m\n",
       "\u001b[2;32m│   │   \u001b[0m\u001b[39m<pycomex.functional.experiment.Experiment object at \u001b[0m\u001b[1;36m0x775d71009b40\u001b[0m\u001b[39m>\u001b[0m\n",
       "\u001b[2;32m│   \u001b[0m\u001b[1;39m]\u001b[0m\u001b[39m,\u001b[0m\n",
       "\u001b[2;32m│   \u001b[0m\u001b[32m'mean'\u001b[0m\u001b[39m: \u001b[0m\u001b[1;39m[\u001b[0m\n",
       "\u001b[2;32m│   │   \u001b[0m\u001b[39m<pycomex.functional.experiment.Experiment object at \u001b[0m\u001b[1;36m0x775d718dfd30\u001b[0m\u001b[39m>,\u001b[0m\n",
       "\u001b[2;32m│   │   \u001b[0m\u001b[39m<pycomex.functional.experiment.Experiment object at \u001b[0m\u001b[1;36m0x775d71991ae0\u001b[0m\u001b[39m>,\u001b[0m\n",
       "\u001b[2;32m│   │   \u001b[0m\u001b[39m<pycomex.functional.experiment.Experiment object at \u001b[0m\u001b[1;36m0x775d728538b0\u001b[0m\u001b[39m>,\u001b[0m\n",
       "\u001b[2;32m│   │   \u001b[0m\u001b[39m<pycomex.functional.experiment.Experiment object at \u001b[0m\u001b[1;36m0x775d71433d90\u001b[0m\u001b[39m>,\u001b[0m\n",
       "\u001b[2;32m│   │   \u001b[0m\u001b[39m<pycomex.functional.experiment.Experiment object at \u001b[0m\u001b[1;36m0x775d7188bbe0\u001b[0m\u001b[39m>\u001b[0m\n",
       "\u001b[2;32m│   \u001b[0m\u001b[1;39m]\u001b[0m\u001b[39m,\u001b[0m\n",
       "\u001b[2;32m│   \u001b[0m\u001b[32m'min'\u001b[0m\u001b[39m: \u001b[0m\u001b[1;39m[\u001b[0m\n",
       "\u001b[2;32m│   │   \u001b[0m\u001b[39m<pycomex.functional.experiment.Experiment object at \u001b[0m\u001b[1;36m0x775d718ded70\u001b[0m\u001b[39m>,\u001b[0m\n",
       "\u001b[2;32m│   │   \u001b[0m\u001b[39m<pycomex.functional.experiment.Experiment object at \u001b[0m\u001b[1;36m0x775d71889540\u001b[0m\u001b[39m>,\u001b[0m\n",
       "\u001b[2;32m│   │   \u001b[0m\u001b[39m<pycomex.functional.experiment.Experiment object at \u001b[0m\u001b[1;36m0x775d714ef5b0\u001b[0m\u001b[39m>,\u001b[0m\n",
       "\u001b[2;32m│   │   \u001b[0m\u001b[39m<pycomex.functional.experiment.Experiment object at \u001b[0m\u001b[1;36m0x775d7137f4f0\u001b[0m\u001b[39m>,\u001b[0m\n",
       "\u001b[2;32m│   │   \u001b[0m\u001b[39m<pycomex.functional.experiment.Experiment object at \u001b[0m\u001b[1;36m0x775d710ba740\u001b[0m\u001b[1m>\u001b[0m\n",
       "\u001b[2;32m│   \u001b[0m\u001b[1m]\u001b[0m\n",
       "\u001b[1m}\u001b[0m\u001b[1m)\u001b[0m\n"
      ]
     },
     "metadata": {},
     "output_type": "display_data"
    }
   ],
   "source": [
    "from collections import defaultdict\n",
    "\n",
    "key_experiment_map: Dict[str, List[Experiment]] = defaultdict(list)\n",
    "\n",
    "for experiment in experiments:\n",
    "    \n",
    "    aggregation_name = experiment.parameters['UNCERTAINTY_AGGREGATION']\n",
    "    key_experiment_map[aggregation_name].append(experiment)\n",
    "    \n",
    "pprint(key_experiment_map)"
   ]
  },
  {
   "cell_type": "code",
   "execution_count": 13,
   "metadata": {},
   "outputs": [
    {
     "data": {
      "text/html": [
       "<pre style=\"white-space:pre;overflow-x:auto;line-height:normal;font-family:Menlo,'DejaVu Sans Mono',consolas,'Courier New',monospace\"><span style=\"font-weight: bold\">[</span>\n",
       "<span style=\"color: #7fbf7f; text-decoration-color: #7fbf7f\">│   </span><span style=\"font-weight: bold\">[</span>\n",
       "<span style=\"color: #7fbf7f; text-decoration-color: #7fbf7f\">│   │   </span><span style=\"color: #008000; text-decoration-color: #008000\">'max'</span>,\n",
       "<span style=\"color: #7fbf7f; text-decoration-color: #7fbf7f\">│   │   </span><span style=\"font-weight: bold\">[</span><span style=\"color: #008080; text-decoration-color: #008080; font-weight: bold\">0.9749878418564171</span>, <span style=\"color: #008080; text-decoration-color: #008080; font-weight: bold\">0.9836646898695784</span>, <span style=\"color: #008080; text-decoration-color: #008080; font-weight: bold\">0.9969572982944539</span>, <span style=\"color: #008080; text-decoration-color: #008080; font-weight: bold\">0.994397602089155</span>, <span style=\"color: #008080; text-decoration-color: #008080; font-weight: bold\">0.989404477996464</span><span style=\"font-weight: bold\">]</span>,\n",
       "<span style=\"color: #7fbf7f; text-decoration-color: #7fbf7f\">│   │   </span><span style=\"font-weight: bold\">[</span><span style=\"color: #008080; text-decoration-color: #008080; font-weight: bold\">0.7762170234072612</span>, <span style=\"color: #008080; text-decoration-color: #008080; font-weight: bold\">0.6249057573830133</span>, <span style=\"color: #008080; text-decoration-color: #008080; font-weight: bold\">0.469404521395088</span>, <span style=\"color: #008080; text-decoration-color: #008080; font-weight: bold\">0.596272186112655</span>, <span style=\"color: #008080; text-decoration-color: #008080; font-weight: bold\">0.5470753455402732</span><span style=\"font-weight: bold\">]</span>,\n",
       "<span style=\"color: #7fbf7f; text-decoration-color: #7fbf7f\">│   │   </span><span style=\"font-weight: bold\">[</span><span style=\"color: #008080; text-decoration-color: #008080; font-weight: bold\">0.3164706099280596</span>, <span style=\"color: #008080; text-decoration-color: #008080; font-weight: bold\">0.28125684793866634</span>, <span style=\"color: #008080; text-decoration-color: #008080; font-weight: bold\">0.2477205701651112</span>, <span style=\"color: #008080; text-decoration-color: #008080; font-weight: bold\">0.3165406757624364</span>, <span style=\"color: #008080; text-decoration-color: #008080; font-weight: bold\">0.229549446459657</span><span style=\"font-weight: bold\">]</span>,\n",
       "<span style=\"color: #7fbf7f; text-decoration-color: #7fbf7f\">│   │   </span><span style=\"font-weight: bold\">[</span><span style=\"color: #008080; text-decoration-color: #008080; font-weight: bold\">0.8082750834551432</span>, <span style=\"color: #008080; text-decoration-color: #008080; font-weight: bold\">0.4299061256064284</span>, <span style=\"color: #008080; text-decoration-color: #008080; font-weight: bold\">0.5745773876200408</span>, <span style=\"color: #008080; text-decoration-color: #008080; font-weight: bold\">0.6926040325105639</span>, <span style=\"color: #008080; text-decoration-color: #008080; font-weight: bold\">0.41691865336120193</span><span style=\"font-weight: bold\">]</span>,\n",
       "<span style=\"color: #7fbf7f; text-decoration-color: #7fbf7f\">│   │   </span><span style=\"color: #808000; text-decoration-color: #808000\">...</span> +<span style=\"color: #008080; text-decoration-color: #008080; font-weight: bold\">1</span>\n",
       "<span style=\"color: #7fbf7f; text-decoration-color: #7fbf7f\">│   </span><span style=\"font-weight: bold\">]</span>,\n",
       "<span style=\"color: #7fbf7f; text-decoration-color: #7fbf7f\">│   </span><span style=\"font-weight: bold\">[</span>\n",
       "<span style=\"color: #7fbf7f; text-decoration-color: #7fbf7f\">│   │   </span><span style=\"color: #008000; text-decoration-color: #008000\">'mean'</span>,\n",
       "<span style=\"color: #7fbf7f; text-decoration-color: #7fbf7f\">│   │   </span><span style=\"font-weight: bold\">[</span><span style=\"color: #008080; text-decoration-color: #008080; font-weight: bold\">0.9873440906888172</span>, <span style=\"color: #008080; text-decoration-color: #008080; font-weight: bold\">0.9967129349814575</span>, <span style=\"color: #008080; text-decoration-color: #008080; font-weight: bold\">0.9263796533555648</span>, <span style=\"color: #008080; text-decoration-color: #008080; font-weight: bold\">0.9972177979804127</span>, <span style=\"color: #008080; text-decoration-color: #008080; font-weight: bold\">0.9728267794032616</span><span style=\"font-weight: bold\">]</span>,\n",
       "<span style=\"color: #7fbf7f; text-decoration-color: #7fbf7f\">│   │   </span><span style=\"font-weight: bold\">[</span><span style=\"color: #008080; text-decoration-color: #008080; font-weight: bold\">0.618155997033631</span>, <span style=\"color: #008080; text-decoration-color: #008080; font-weight: bold\">0.5330644643771303</span>, <span style=\"color: #008080; text-decoration-color: #008080; font-weight: bold\">0.9494408050152136</span>, <span style=\"color: #008080; text-decoration-color: #008080; font-weight: bold\">0.6808495341881869</span>, <span style=\"color: #008080; text-decoration-color: #008080; font-weight: bold\">0.7117938586701626</span><span style=\"font-weight: bold\">]</span>,\n",
       "<span style=\"color: #7fbf7f; text-decoration-color: #7fbf7f\">│   │   </span><span style=\"font-weight: bold\">[</span><span style=\"color: #008080; text-decoration-color: #008080; font-weight: bold\">0.3104179817213571</span>, <span style=\"color: #008080; text-decoration-color: #008080; font-weight: bold\">0.32367154063948006</span>, <span style=\"color: #008080; text-decoration-color: #008080; font-weight: bold\">0.4300233415479804</span>, <span style=\"color: #008080; text-decoration-color: #008080; font-weight: bold\">0.3995187939761712</span>, <span style=\"color: #008080; text-decoration-color: #008080; font-weight: bold\">0.2968809544388913</span><span style=\"font-weight: bold\">]</span>,\n",
       "<span style=\"color: #7fbf7f; text-decoration-color: #7fbf7f\">│   │   </span><span style=\"font-weight: bold\">[</span><span style=\"color: #008080; text-decoration-color: #008080; font-weight: bold\">0.6808696853642998</span>, <span style=\"color: #008080; text-decoration-color: #008080; font-weight: bold\">0.5452409489253925</span>, <span style=\"color: #008080; text-decoration-color: #008080; font-weight: bold\">0.8216829665541232</span>, <span style=\"color: #008080; text-decoration-color: #008080; font-weight: bold\">0.8542763637151032</span>, <span style=\"color: #008080; text-decoration-color: #008080; font-weight: bold\">0.589317303396854</span><span style=\"font-weight: bold\">]</span>,\n",
       "<span style=\"color: #7fbf7f; text-decoration-color: #7fbf7f\">│   │   </span><span style=\"color: #808000; text-decoration-color: #808000\">...</span> +<span style=\"color: #008080; text-decoration-color: #008080; font-weight: bold\">1</span>\n",
       "<span style=\"color: #7fbf7f; text-decoration-color: #7fbf7f\">│   </span><span style=\"font-weight: bold\">]</span>,\n",
       "<span style=\"color: #7fbf7f; text-decoration-color: #7fbf7f\">│   </span><span style=\"font-weight: bold\">[</span>\n",
       "<span style=\"color: #7fbf7f; text-decoration-color: #7fbf7f\">│   │   </span><span style=\"color: #008000; text-decoration-color: #008000\">'min'</span>,\n",
       "<span style=\"color: #7fbf7f; text-decoration-color: #7fbf7f\">│   │   </span><span style=\"font-weight: bold\">[</span><span style=\"color: #008080; text-decoration-color: #008080; font-weight: bold\">0.9954720809362106</span>, <span style=\"color: #008080; text-decoration-color: #008080; font-weight: bold\">0.9869587897347094</span>, <span style=\"color: #008080; text-decoration-color: #008080; font-weight: bold\">0.9900150088190427</span>, <span style=\"color: #008080; text-decoration-color: #008080; font-weight: bold\">0.9958701633649585</span>, <span style=\"color: #008080; text-decoration-color: #008080; font-weight: bold\">0.9881933349653222</span><span style=\"font-weight: bold\">]</span>,\n",
       "<span style=\"color: #7fbf7f; text-decoration-color: #7fbf7f\">│   │   </span><span style=\"font-weight: bold\">[</span><span style=\"color: #008080; text-decoration-color: #008080; font-weight: bold\">0.4356719562765124</span>, <span style=\"color: #008080; text-decoration-color: #008080; font-weight: bold\">0.5953329054778245</span>, <span style=\"color: #008080; text-decoration-color: #008080; font-weight: bold\">0.5289520880749126</span>, <span style=\"color: #008080; text-decoration-color: #008080; font-weight: bold\">0.4976298312314534</span>, <span style=\"color: #008080; text-decoration-color: #008080; font-weight: bold\">0.77676500080748</span><span style=\"font-weight: bold\">]</span>,\n",
       "<span style=\"color: #7fbf7f; text-decoration-color: #7fbf7f\">│   │   </span><span style=\"font-weight: bold\">[</span><span style=\"color: #008080; text-decoration-color: #008080; font-weight: bold\">0.28545466801087566</span>, <span style=\"color: #008080; text-decoration-color: #008080; font-weight: bold\">0.3069123191934225</span>, <span style=\"color: #008080; text-decoration-color: #008080; font-weight: bold\">0.27266924935655107</span>, <span style=\"color: #008080; text-decoration-color: #008080; font-weight: bold\">0.24420777432442126</span>, <span style=\"color: #008080; text-decoration-color: #008080; font-weight: bold\">0.3814100044028449</span><span style=\"font-weight: bold\">]</span>,\n",
       "<span style=\"color: #7fbf7f; text-decoration-color: #7fbf7f\">│   │   </span><span style=\"font-weight: bold\">[</span><span style=\"color: #008080; text-decoration-color: #008080; font-weight: bold\">0.45397780197781773</span>, <span style=\"color: #008080; text-decoration-color: #008080; font-weight: bold\">0.6837603027420887</span>, <span style=\"color: #008080; text-decoration-color: #008080; font-weight: bold\">0.6444423389620437</span>, <span style=\"color: #008080; text-decoration-color: #008080; font-weight: bold\">0.5359079024082417</span>, <span style=\"color: #008080; text-decoration-color: #008080; font-weight: bold\">0.7955245540573397</span><span style=\"font-weight: bold\">]</span>,\n",
       "<span style=\"color: #7fbf7f; text-decoration-color: #7fbf7f\">│   │   </span><span style=\"color: #808000; text-decoration-color: #808000\">...</span> +<span style=\"color: #008080; text-decoration-color: #008080; font-weight: bold\">1</span>\n",
       "<span style=\"color: #7fbf7f; text-decoration-color: #7fbf7f\">│   </span><span style=\"font-weight: bold\">]</span>\n",
       "<span style=\"font-weight: bold\">]</span>\n",
       "</pre>\n"
      ],
      "text/plain": [
       "\u001b[1m[\u001b[0m\n",
       "\u001b[2;32m│   \u001b[0m\u001b[1m[\u001b[0m\n",
       "\u001b[2;32m│   │   \u001b[0m\u001b[32m'max'\u001b[0m,\n",
       "\u001b[2;32m│   │   \u001b[0m\u001b[1m[\u001b[0m\u001b[1;36m0.9749878418564171\u001b[0m, \u001b[1;36m0.9836646898695784\u001b[0m, \u001b[1;36m0.9969572982944539\u001b[0m, \u001b[1;36m0.994397602089155\u001b[0m, \u001b[1;36m0.989404477996464\u001b[0m\u001b[1m]\u001b[0m,\n",
       "\u001b[2;32m│   │   \u001b[0m\u001b[1m[\u001b[0m\u001b[1;36m0.7762170234072612\u001b[0m, \u001b[1;36m0.6249057573830133\u001b[0m, \u001b[1;36m0.469404521395088\u001b[0m, \u001b[1;36m0.596272186112655\u001b[0m, \u001b[1;36m0.5470753455402732\u001b[0m\u001b[1m]\u001b[0m,\n",
       "\u001b[2;32m│   │   \u001b[0m\u001b[1m[\u001b[0m\u001b[1;36m0.3164706099280596\u001b[0m, \u001b[1;36m0.28125684793866634\u001b[0m, \u001b[1;36m0.2477205701651112\u001b[0m, \u001b[1;36m0.3165406757624364\u001b[0m, \u001b[1;36m0.229549446459657\u001b[0m\u001b[1m]\u001b[0m,\n",
       "\u001b[2;32m│   │   \u001b[0m\u001b[1m[\u001b[0m\u001b[1;36m0.8082750834551432\u001b[0m, \u001b[1;36m0.4299061256064284\u001b[0m, \u001b[1;36m0.5745773876200408\u001b[0m, \u001b[1;36m0.6926040325105639\u001b[0m, \u001b[1;36m0.41691865336120193\u001b[0m\u001b[1m]\u001b[0m,\n",
       "\u001b[2;32m│   │   \u001b[0m\u001b[33m...\u001b[0m +\u001b[1;36m1\u001b[0m\n",
       "\u001b[2;32m│   \u001b[0m\u001b[1m]\u001b[0m,\n",
       "\u001b[2;32m│   \u001b[0m\u001b[1m[\u001b[0m\n",
       "\u001b[2;32m│   │   \u001b[0m\u001b[32m'mean'\u001b[0m,\n",
       "\u001b[2;32m│   │   \u001b[0m\u001b[1m[\u001b[0m\u001b[1;36m0.9873440906888172\u001b[0m, \u001b[1;36m0.9967129349814575\u001b[0m, \u001b[1;36m0.9263796533555648\u001b[0m, \u001b[1;36m0.9972177979804127\u001b[0m, \u001b[1;36m0.9728267794032616\u001b[0m\u001b[1m]\u001b[0m,\n",
       "\u001b[2;32m│   │   \u001b[0m\u001b[1m[\u001b[0m\u001b[1;36m0.618155997033631\u001b[0m, \u001b[1;36m0.5330644643771303\u001b[0m, \u001b[1;36m0.9494408050152136\u001b[0m, \u001b[1;36m0.6808495341881869\u001b[0m, \u001b[1;36m0.7117938586701626\u001b[0m\u001b[1m]\u001b[0m,\n",
       "\u001b[2;32m│   │   \u001b[0m\u001b[1m[\u001b[0m\u001b[1;36m0.3104179817213571\u001b[0m, \u001b[1;36m0.32367154063948006\u001b[0m, \u001b[1;36m0.4300233415479804\u001b[0m, \u001b[1;36m0.3995187939761712\u001b[0m, \u001b[1;36m0.2968809544388913\u001b[0m\u001b[1m]\u001b[0m,\n",
       "\u001b[2;32m│   │   \u001b[0m\u001b[1m[\u001b[0m\u001b[1;36m0.6808696853642998\u001b[0m, \u001b[1;36m0.5452409489253925\u001b[0m, \u001b[1;36m0.8216829665541232\u001b[0m, \u001b[1;36m0.8542763637151032\u001b[0m, \u001b[1;36m0.589317303396854\u001b[0m\u001b[1m]\u001b[0m,\n",
       "\u001b[2;32m│   │   \u001b[0m\u001b[33m...\u001b[0m +\u001b[1;36m1\u001b[0m\n",
       "\u001b[2;32m│   \u001b[0m\u001b[1m]\u001b[0m,\n",
       "\u001b[2;32m│   \u001b[0m\u001b[1m[\u001b[0m\n",
       "\u001b[2;32m│   │   \u001b[0m\u001b[32m'min'\u001b[0m,\n",
       "\u001b[2;32m│   │   \u001b[0m\u001b[1m[\u001b[0m\u001b[1;36m0.9954720809362106\u001b[0m, \u001b[1;36m0.9869587897347094\u001b[0m, \u001b[1;36m0.9900150088190427\u001b[0m, \u001b[1;36m0.9958701633649585\u001b[0m, \u001b[1;36m0.9881933349653222\u001b[0m\u001b[1m]\u001b[0m,\n",
       "\u001b[2;32m│   │   \u001b[0m\u001b[1m[\u001b[0m\u001b[1;36m0.4356719562765124\u001b[0m, \u001b[1;36m0.5953329054778245\u001b[0m, \u001b[1;36m0.5289520880749126\u001b[0m, \u001b[1;36m0.4976298312314534\u001b[0m, \u001b[1;36m0.77676500080748\u001b[0m\u001b[1m]\u001b[0m,\n",
       "\u001b[2;32m│   │   \u001b[0m\u001b[1m[\u001b[0m\u001b[1;36m0.28545466801087566\u001b[0m, \u001b[1;36m0.3069123191934225\u001b[0m, \u001b[1;36m0.27266924935655107\u001b[0m, \u001b[1;36m0.24420777432442126\u001b[0m, \u001b[1;36m0.3814100044028449\u001b[0m\u001b[1m]\u001b[0m,\n",
       "\u001b[2;32m│   │   \u001b[0m\u001b[1m[\u001b[0m\u001b[1;36m0.45397780197781773\u001b[0m, \u001b[1;36m0.6837603027420887\u001b[0m, \u001b[1;36m0.6444423389620437\u001b[0m, \u001b[1;36m0.5359079024082417\u001b[0m, \u001b[1;36m0.7955245540573397\u001b[0m\u001b[1m]\u001b[0m,\n",
       "\u001b[2;32m│   │   \u001b[0m\u001b[33m...\u001b[0m +\u001b[1;36m1\u001b[0m\n",
       "\u001b[2;32m│   \u001b[0m\u001b[1m]\u001b[0m\n",
       "\u001b[1m]\u001b[0m\n"
      ]
     },
     "metadata": {},
     "output_type": "display_data"
    }
   ],
   "source": [
    "from scipy.stats import iqr\n",
    "\n",
    "column_names = ['Aggregation', r'$R^2 \\uparrow$', r'$\\rho \\uparrow$', r'$\\text{UER-AUC}_{mean} \\uparrow$', r'$\\text{UER-AUC}_{max} \\uparrow$', r'$\\text{RLL} \\uparrow$']\n",
    "\n",
    "rows: List[list] = []\n",
    "\n",
    "for aggr, experiments in key_experiment_map.items():\n",
    "    \n",
    "    row = [aggr]\n",
    "    \n",
    "    for key in ['r2', 'corr', 'uer_auc_mean', 'uer_auc_max', 'rll']:\n",
    "        \n",
    "        values: List[float] = []\n",
    "        for experiment in experiments:\n",
    "            value = float(experiment.data['test']['metrics'][key])\n",
    "            values.append(value)\n",
    "        \n",
    "        if key == 'rll':\n",
    "            q1 = np.percentile(values, 25)\n",
    "            q3 = np.percentile(values, 75)\n",
    "            iqr_value = iqr(values)\n",
    "            lower_bound = q1 - 1.5 * iqr_value\n",
    "            upper_bound = q3 + 1.5 * iqr_value\n",
    "            values = [v for v in values if lower_bound <= v <= upper_bound]\n",
    "        \n",
    "        row.append(values)\n",
    "        \n",
    "    rows.append(row)\n",
    "    \n",
    "pprint(rows, max_length=5)"
   ]
  },
  {
   "cell_type": "code",
   "execution_count": 15,
   "metadata": {},
   "outputs": [
    {
     "name": "stdout",
     "output_type": "stream",
     "text": [
      "\\begin{tabular}{ cccccc }\n",
      "% -- table header --\n",
      "\\toprule\n",
      "Aggregation &\n",
      "$R^2 \\uparrow$ &\n",
      "$\\rho \\uparrow$ &\n",
      "$\\text{UER-AUC}_{mean} \\uparrow$ &\n",
      "$\\text{UER-AUC}_{max} \\uparrow$ &\n",
      "$\\text{RLL} \\uparrow$ \\\\\n",
      "\n",
      "\\midrule\n",
      "% -- table content --\n",
      "% row 1\n",
      "max &\n",
      "$0.99 {\\color{gray} \\pm \\mathsmaller{ 0.01 } }$ &\n",
      "$0.60 {\\color{gray} \\pm \\mathsmaller{ 0.10 } }$ &\n",
      "$0.28 {\\color{gray} \\pm \\mathsmaller{ 0.04 } }$ &\n",
      "$0.58 {\\color{gray} \\pm \\mathsmaller{ 0.15 } }$ &\n",
      "$0.79 {\\color{gray} \\pm \\mathsmaller{ 0.02 } }$ \n",
      "\\\\\n",
      "% row 2\n",
      "mean &\n",
      "$0.98 {\\color{gray} \\pm \\mathsmaller{ 0.03 } }$ &\n",
      "$0.70 {\\color{gray} \\pm \\mathsmaller{ 0.14 } }$ &\n",
      "$0.35 {\\color{gray} \\pm \\mathsmaller{ 0.05 } }$ &\n",
      "$0.70 {\\color{gray} \\pm \\mathsmaller{ 0.12 } }$ &\n",
      "$0.77 {\\color{gray} \\pm \\mathsmaller{ 0.03 } }$ \n",
      "\\\\\n",
      "% row 3\n",
      "min &\n",
      "$0.99 {\\color{gray} \\pm \\mathsmaller{ 0.00 } }$ &\n",
      "$0.57 {\\color{gray} \\pm \\mathsmaller{ 0.12 } }$ &\n",
      "$0.30 {\\color{gray} \\pm \\mathsmaller{ 0.05 } }$ &\n",
      "$0.62 {\\color{gray} \\pm \\mathsmaller{ 0.12 } }$ &\n",
      "$0.66 {\\color{gray} \\pm \\mathsmaller{ 0.08 } }$ \n",
      "\\\\\n",
      "\n",
      "\\bottomrule\n",
      "\\end{tabular}\n",
      "\n"
     ]
    }
   ],
   "source": [
    "# ~ Generating the latex table\n",
    "\n",
    "from truthful_counterfactuals.utils import render_latex\n",
    "from truthful_counterfactuals.utils import latex_table\n",
    "\n",
    "# ~ rendering latex\n",
    "\n",
    "tex_content, tex_table = latex_table(\n",
    "    column_names=column_names,\n",
    "    rows=rows\n",
    ")\n",
    "print(tex_table)\n",
    "\n",
    "tex_path = os.path.join(PATH, '_results_ex_05.tex')\n",
    "with open(tex_path, 'w') as file:\n",
    "    file.write(tex_table)\n",
    "\n",
    "pdf_path = os.path.join(PATH, '_results_ex_05.pdf')\n",
    "render_latex({'content': tex_table}, pdf_path)"
   ]
  },
  {
   "cell_type": "code",
   "execution_count": null,
   "metadata": {},
   "outputs": [],
   "source": []
  }
 ],
 "metadata": {
  "kernelspec": {
   "display_name": "venv",
   "language": "python",
   "name": "python3"
  },
  "language_info": {
   "codemirror_mode": {
    "name": "ipython",
    "version": 3
   },
   "file_extension": ".py",
   "mimetype": "text/x-python",
   "name": "python",
   "nbconvert_exporter": "python",
   "pygments_lexer": "ipython3",
   "version": "3.10.12"
  }
 },
 "nbformat": 4,
 "nbformat_minor": 2
}

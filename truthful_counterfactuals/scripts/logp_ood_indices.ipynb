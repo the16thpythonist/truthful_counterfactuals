{
 "cells": [
  {
   "cell_type": "code",
   "execution_count": 6,
   "metadata": {},
   "outputs": [],
   "source": [
    "import os\n",
    "import json\n",
    "import random\n",
    "\n",
    "import numpy as np\n",
    "import seaborn as sns\n",
    "import matplotlib.pyplot as plt\n",
    "from rich import print as pprint\n",
    "from visual_graph_datasets.util import dynamic_import\n",
    "from visual_graph_datasets.data import VisualGraphDatasetReader\n",
    "\n",
    "from truthful_counterfactuals.utils import EXPERIMENTS_PATH"
   ]
  },
  {
   "cell_type": "code",
   "execution_count": 7,
   "metadata": {},
   "outputs": [],
   "source": [
    "PATH = os.getcwd()\n",
    "\n",
    "PROCESSING_PATH = os.path.join(EXPERIMENTS_PATH, 'assets', 'process.py')\n",
    "VISUAL_GRAPH_DATASET = os.path.join(EXPERIMENTS_PATH, 'assets', 'logp')"
   ]
  },
  {
   "cell_type": "code",
   "execution_count": 8,
   "metadata": {},
   "outputs": [
    {
     "name": "stdout",
     "output_type": "stream",
     "text": [
      "loading processing...\n",
      "processing: <VgdMoleculeProcessing None>\n",
      "loading dataset...\n",
      "loaded dataset with 11024 samples\n"
     ]
    }
   ],
   "source": [
    "print('loading processing...')\n",
    "module = dynamic_import(PROCESSING_PATH)\n",
    "processing = module.processing\n",
    "print(f'processing: {processing}')\n",
    "\n",
    "print('loading dataset...')\n",
    "reader = VisualGraphDatasetReader(VISUAL_GRAPH_DATASET)\n",
    "index_data_map = reader.read()\n",
    "indices = list(index_data_map.keys())\n",
    "graphs = [data['metadata']['graph'] for data in index_data_map.values()]\n",
    "print(f'loaded dataset with {len(index_data_map)} samples')"
   ]
  },
  {
   "cell_type": "code",
   "execution_count": 9,
   "metadata": {},
   "outputs": [
    {
     "name": "stdout",
     "output_type": "stream",
     "text": [
      "determine value-OOD set...\n",
      "percentiles:\n",
      " * 5: -2.5032799999999993\n",
      " * 95: 6.6206000000000005\n"
     ]
    },
    {
     "name": "stderr",
     "output_type": "stream",
     "text": [
      "/tmp/ipykernel_2295503/2380668381.py:3: DeprecationWarning: Conversion of an array with ndim > 0 to a scalar is deprecated, and will error in future. Ensure you extract a single element from your array before performing this operation. (Deprecated NumPy 1.25.)\n",
      "  values = [float(graph['graph_labels']) for graph in graphs]\n"
     ]
    },
    {
     "data": {
      "image/png": "[encoded data removed]",
      "text/plain": [
       "<Figure size 640x480 with 1 Axes>"
      ]
     },
     "metadata": {},
     "output_type": "display_data"
    }
   ],
   "source": [
    "print('determine value-OOD set...')\n",
    "\n",
    "values = [float(graph['graph_labels']) for graph in graphs]\n",
    "sns.histplot(values, bins=25, kde=True)\n",
    "print(f'percentiles:')\n",
    "print(f' * 5: {np.percentile(values, 5)}')\n",
    "print(f' * 95: {np.percentile(values, 95)}')"
   ]
  },
  {
   "cell_type": "code",
   "execution_count": 10,
   "metadata": {},
   "outputs": [
    {
     "name": "stdout",
     "output_type": "stream",
     "text": [
      "selected 1399 samples\n"
     ]
    }
   ],
   "source": [
    "VALUE_MIN = -2\n",
    "VALUE_MAX = 6\n",
    "\n",
    "indices_ood_value = [i for i, value in zip(indices, values) if value < VALUE_MIN or value > VALUE_MAX]\n",
    "print(f'selected {len(indices_ood_value)} samples')\n",
    "\n",
    "path_ood_value = os.path.join(PATH, 'ood_value.json')\n",
    "with open(path_ood_value, 'w') as file:\n",
    "    content = json.dumps(indices_ood_value)\n",
    "    file.write(content)"
   ]
  },
  {
   "cell_type": "code",
   "execution_count": 11,
   "metadata": {},
   "outputs": [
    {
     "name": "stdout",
     "output_type": "stream",
     "text": [
      "determine structure-OOD set...\n"
     ]
    },
    {
     "data": {
      "text/html": [
       "<pre style=\"white-space:pre;overflow-x:auto;line-height:normal;font-family:Menlo,'DejaVu Sans Mono',consolas,'Courier New',monospace\"><span style=\"font-weight: bold\">{</span><span style=\"color: #008000; text-decoration-color: #008000\">'S'</span>: <span style=\"color: #008080; text-decoration-color: #008080; font-weight: bold\">1914</span>, <span style=\"color: #008000; text-decoration-color: #008000\">'O'</span>: <span style=\"color: #008080; text-decoration-color: #008080; font-weight: bold\">8897</span>, <span style=\"color: #008000; text-decoration-color: #008000\">'N'</span>: <span style=\"color: #008080; text-decoration-color: #008080; font-weight: bold\">5452</span>, <span style=\"color: #008000; text-decoration-color: #008000\">'Cl'</span>: <span style=\"color: #008080; text-decoration-color: #008080; font-weight: bold\">1960</span>, <span style=\"color: #008000; text-decoration-color: #008000\">'F'</span>: <span style=\"color: #008080; text-decoration-color: #008080; font-weight: bold\">546</span><span style=\"font-weight: bold\">}</span>\n",
       "</pre>\n"
      ],
      "text/plain": [
       "\u001b[1m{\u001b[0m\u001b[32m'S'\u001b[0m: \u001b[1;36m1914\u001b[0m, \u001b[32m'O'\u001b[0m: \u001b[1;36m8897\u001b[0m, \u001b[32m'N'\u001b[0m: \u001b[1;36m5452\u001b[0m, \u001b[32m'Cl'\u001b[0m: \u001b[1;36m1960\u001b[0m, \u001b[32m'F'\u001b[0m: \u001b[1;36m546\u001b[0m\u001b[1m}\u001b[0m\n"
      ]
     },
     "metadata": {},
     "output_type": "display_data"
    },
    {
     "name": "stdout",
     "output_type": "stream",
     "text": [
      "selected 1960 samples\n"
     ]
    }
   ],
   "source": [
    "print('determine structure-OOD set...')\n",
    "\n",
    "atom_index_map = {\n",
    "    'S': [],\n",
    "    'O': [],\n",
    "    'N': [],\n",
    "    'Cl': [],\n",
    "    'F': [],\n",
    "}\n",
    "\n",
    "for index, graph in zip(indices, graphs):\n",
    "    smiles = str(graph['graph_repr'])\n",
    "    \n",
    "    for atom in atom_index_map.keys():\n",
    "        if atom in smiles:\n",
    "            atom_index_map[atom].append(index)\n",
    "            \n",
    "atom_length_map = {key: len(values) for key, values in atom_index_map.items()}\n",
    "pprint(atom_length_map)\n",
    "\n",
    "indices_ood_struct = atom_index_map['Cl']\n",
    "print(f'selected {len(indices_ood_struct)} samples')\n",
    "\n",
    "path_ood_struct = os.path.join(PATH, 'ood_struct.json')\n",
    "with open(path_ood_struct, 'w') as file:\n",
    "    content = json.dumps(indices_ood_struct)\n",
    "    file.write(content)"
   ]
  },
  {
   "cell_type": "code",
   "execution_count": 12,
   "metadata": {},
   "outputs": [
    {
     "data": {
      "text/html": [
       "<pre style=\"white-space:pre;overflow-x:auto;line-height:normal;font-family:Menlo,'DejaVu Sans Mono',consolas,'Courier New',monospace\"><span style=\"font-weight: bold\">{</span><span style=\"color: #008000; text-decoration-color: #008000\">'[OX2H]'</span>: <span style=\"color: #008080; text-decoration-color: #008080; font-weight: bold\">3626</span>, <span style=\"color: #008000; text-decoration-color: #008000\">'[C](=O)[O]'</span>: <span style=\"color: #008080; text-decoration-color: #008080; font-weight: bold\">3307</span>, <span style=\"color: #008000; text-decoration-color: #008000\">'[N][H][H]'</span>: <span style=\"color: #008080; text-decoration-color: #008080; font-weight: bold\">0</span>, <span style=\"color: #008000; text-decoration-color: #008000\">'[N+](=O)[O-]'</span>: <span style=\"color: #008080; text-decoration-color: #008080; font-weight: bold\">604</span><span style=\"font-weight: bold\">}</span>\n",
       "</pre>\n"
      ],
      "text/plain": [
       "\u001b[1m{\u001b[0m\u001b[32m'\u001b[0m\u001b[32m[\u001b[0m\u001b[32mOX2H\u001b[0m\u001b[32m]\u001b[0m\u001b[32m'\u001b[0m: \u001b[1;36m3626\u001b[0m, \u001b[32m'\u001b[0m\u001b[32m[\u001b[0m\u001b[32mC\u001b[0m\u001b[32m]\u001b[0m\u001b[32m(\u001b[0m\u001b[32m=O\u001b[0m\u001b[32m)\u001b[0m\u001b[32m[\u001b[0m\u001b[32mO\u001b[0m\u001b[32m]\u001b[0m\u001b[32m'\u001b[0m: \u001b[1;36m3307\u001b[0m, \u001b[32m'\u001b[0m\u001b[32m[\u001b[0m\u001b[32mN\u001b[0m\u001b[32m]\u001b[0m\u001b[32m[\u001b[0m\u001b[32mH\u001b[0m\u001b[32m]\u001b[0m\u001b[32m[\u001b[0m\u001b[32mH\u001b[0m\u001b[32m]\u001b[0m\u001b[32m'\u001b[0m: \u001b[1;36m0\u001b[0m, \u001b[32m'\u001b[0m\u001b[32m[\u001b[0m\u001b[32mN+\u001b[0m\u001b[32m]\u001b[0m\u001b[32m(\u001b[0m\u001b[32m=O\u001b[0m\u001b[32m)\u001b[0m\u001b[32m[\u001b[0m\u001b[32mO-\u001b[0m\u001b[32m]\u001b[0m\u001b[32m'\u001b[0m: \u001b[1;36m604\u001b[0m\u001b[1m}\u001b[0m\n"
      ]
     },
     "metadata": {},
     "output_type": "display_data"
    }
   ],
   "source": [
    "import rdkit.Chem as Chem\n",
    "\n",
    "struct_index_map = {\n",
    "    # hydroxyl\n",
    "    '[OX2H]': [],\n",
    "    # carboxyl\n",
    "    '[C](=O)[O]': [],\n",
    "    # amino group\n",
    "    '[N][H][H]': [],\n",
    "    # nitro group\n",
    "    '[N+](=O)[O-]': [],\n",
    "}\n",
    "\n",
    "for index, graph in zip(indices, graphs):\n",
    "    smiles = str(graph['graph_repr'])\n",
    "    \n",
    "    for struct in struct_index_map.keys():\n",
    "        smarts = Chem.MolFromSmarts(struct)\n",
    "        mol = Chem.MolFromSmiles(smiles)\n",
    "        if mol.HasSubstructMatch(smarts):\n",
    "            struct_index_map[struct].append(index)\n",
    "            \n",
    "\n",
    "struct_length_map = {key: len(values) for key, values in struct_index_map.items()}\n",
    "pprint(struct_length_map)"
   ]
  },
  {
   "cell_type": "code",
   "execution_count": 13,
   "metadata": {},
   "outputs": [],
   "source": [
    "import deepchem as dc\n",
    "from deepchem.splits import ScaffoldSplitter\n",
    "from deepchem.data import NumpyDataset"
   ]
  },
  {
   "cell_type": "code",
   "execution_count": 30,
   "metadata": {},
   "outputs": [
    {
     "name": "stdout",
     "output_type": "stream",
     "text": [
      "Training SMILES: 9921 ['CCCCCCCCCCC(C)CCCCCCCC' 'NC(=O)N=NC(N)=O' '[C-]#[O+]' ...\n",
      " 'CC1=C(OCC2=CC=CC=C2)C=CC2=C1OC(N1CCOCC1)=CC2=O'\n",
      " 'NC(=O)C1=CN=C2N1CCC1=C(C=CC=C1)C21CCNCC1'\n",
      " 'c1ccc2Sc3ccccc3N(CC4CN(C)CCC4)c2c1'] [   3    4    8 ... 9983 9977 9961]\n",
      "Test SMILES: 1103 ['C1CCC(CC1)[Sn](C2CCCCC2)C3CCCCC3.O' 'c1ccc2C(=O)N=C(c3ccccc3)Oc2c1'\n",
      " 'c1ccc2C(O)N3CCC(O)C3=Nc2c1' ...\n",
      " '[Zn++].Cc1cccc2[N-]C(=S)Nc12.Cc3cccc4NC(=S)[N-]c34'\n",
      " 'C1OC1COc2ccc3c(OCC4CO4)cccc3c2' 'O=C1CCCCCCCCCOCCCCCO1'] [9956 9897 9842 ...   24   18    2]\n"
     ]
    }
   ],
   "source": [
    "smiles_list = [str(graph['graph_repr']) for graph in graphs]\n",
    "Xs = np.array(indices)\n",
    "Ys = np.ones(len(smiles_list))\n",
    "dataset = dc.data.DiskDataset.from_numpy(X=Xs,y=Ys,w=np.zeros(len(smiles_list)),ids=smiles_list)\n",
    "\n",
    "splitter = ScaffoldSplitter()\n",
    "train_dataset, test_dataset = splitter.train_test_split(dataset=dataset, frac_train=0.9)\n",
    "train_smiles = train_dataset.ids\n",
    "test_smiles = test_dataset.ids\n",
    "\n",
    "print(\"Training SMILES:\", len(train_smiles), train_smiles, train_dataset.X)\n",
    "print(\"Test SMILES:\", len(test_smiles), test_smiles, test_dataset.X)\n",
    "\n",
    "indices_ood_struct = test_dataset.X.astype(int).tolist()\n",
    "path_ood_struct = os.path.join(PATH, 'ood_struct.json')\n",
    "with open(path_ood_struct, 'w') as file:\n",
    "    content = json.dumps(indices_ood_struct)\n",
    "    file.write(content)"
   ]
  },
  {
   "cell_type": "code",
   "execution_count": null,
   "metadata": {},
   "outputs": [],
   "source": []
  }
 ],
 "metadata": {
  "kernelspec": {
   "display_name": "venv",
   "language": "python",
   "name": "python3"
  },
  "language_info": {
   "codemirror_mode": {
    "name": "ipython",
    "version": 3
   },
   "file_extension": ".py",
   "mimetype": "text/x-python",
   "name": "python",
   "nbconvert_exporter": "python",
   "pygments_lexer": "ipython3",
   "version": "3.10.13"
  }
 },
 "nbformat": 4,
 "nbformat_minor": 2
}
